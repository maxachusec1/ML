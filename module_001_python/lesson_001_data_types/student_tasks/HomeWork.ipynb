{
 "cells": [
  {
   "cell_type": "markdown",
   "metadata": {},
   "source": [
    "# Задача 1\n",
    "\n",
    "Дан текст, выполнить с ним следующие операции:\n",
    "* Вывести длину текста\n",
    "* Заменить буквы 'о' на буквы 'а'\n",
    "* Удалить слова 'не' и 'ни'"
   ]
  },
  {
   "cell_type": "code",
   "execution_count": 16,
   "metadata": {},
   "outputs": [],
   "source": [
    "quote = \"\"\"\n",
    "Будучи вне дома, держите себя так, словно принимаете почетных гостей.\n",
    "Пользуясь услугами людей, ведите себя так, словно свершаете торжественный обряд.\n",
    "Не делайте другим того, чего себе не пожелаете.\n",
    "Тогда ни в государстве, ни в семье не будет недовольства.\n",
    "\"\"\""
   ]
  },
  {
   "cell_type": "code",
   "execution_count": 91,
   "metadata": {},
   "outputs": [
    {
     "name": "stdout",
     "output_type": "stream",
     "text": [
      "Длина текста : 258  символов.\n",
      "Текст после замены \"о\" на \"а\":  \n",
      "Будучи вне дама, держите себя так, славна принимаете пачетных гастей.\n",
      "Пальзуясь услугами людей, ведите себя так, славна свершаете таржественный абряд.\n",
      "Не делайте другим тага, чега себе не пажелаете.\n",
      "Тагда ни в гасударстве, ни в семье не будет недавальства.\n",
      "\n",
      "Текст после удаление слов \"не\" и \"ни\":  \n",
      "Будучи вне дома, держите себя так, словно принимаете почетных гостей.\n",
      "Пользуясь услугами людей, ведите себя так, словно свершаете торжественный обряд.\n",
      "Не делайте другим того, чего себе пожелаете.\n",
      "Тогда в государстве, в семье будет недовольства.\n",
      "\n"
     ]
    }
   ],
   "source": [
    "# Пишите свой код\n",
    "print('Длина текста :', len(quote), ' символов.')\n",
    "print('Текст после замены \"о\" на \"а\": ', quote.replace('о','а'))\n",
    "b=quote\n",
    "b=b.replace(' ни ',' ')\n",
    "b=b.replace(' не ',' ')\n",
    "print('Текст после удаление слов \"не\" и \"ни\": ', b)"
   ]
  },
  {
   "cell_type": "markdown",
   "metadata": {},
   "source": [
    "# Задача 2\n",
    "\n",
    "Сложные проценты - https://ru.onlinemschool.com/math/library/percent/percent10/\n",
    "\n",
    "Пользователь желает положить деньги под проценты на определенный срок. Банк каждый год начисляет 8% годовых. Вычислить полученную сумму в конце срока.\n",
    "\n",
    "Доп. задача, распишите прибыль за каждый год. (можно использовать циклы если знаете, но можно и без)\n",
    "\n",
    "Онлайн калькулятор, для проверки ответов: https://wpcalc.com/slozhnyj-procent/"
   ]
  },
  {
   "cell_type": "code",
   "execution_count": 40,
   "metadata": {},
   "outputs": [],
   "source": [
    "# сумма пользователя в рублях, которую он положит в банк\n",
    "source_amt = 412500\n",
    "\n",
    "# годовой процент\n",
    "annual_interest = 8\n",
    "\n",
    "# срок в 5 лет\n",
    "time = 5\n",
    "\n",
    "# в эту переменную нужно записать ответ\n",
    "result = -1"
   ]
  },
  {
   "cell_type": "code",
   "execution_count": 89,
   "metadata": {},
   "outputs": [
    {
     "name": "stdout",
     "output_type": "stream",
     "text": [
      "Год № 0:  412500  руб.\n",
      "Год № 1:  445500  руб.\n",
      "Год № 2:  481140  руб.\n",
      "Год № 3:  519631  руб.\n",
      "Год № 4:  561202  руб.\n",
      "Год № 5:  606098  руб.\n",
      "Полученная сумма:\t 606098 руб.  83 коп.\n",
      "Прибыль:\t\t 193598 руб.  83 коп.\n",
      "0\n",
      "2\n",
      "4\n"
     ]
    }
   ],
   "source": [
    "# Пишите свой код\n",
    "b=source_amt\n",
    "for number in range(time+1):\n",
    "        buff=b\n",
    "        b=b*(1+annual_interest/100)\n",
    "        difference=b-buff\n",
    "        print(f'Год № {number}: ', round(buff), ' руб.')\n",
    "    \n",
    "\n",
    "\n",
    "result=source_amt*((1+annual_interest/100)**time)\n",
    "#print(result,'\\n\\n\\n\\n')\n",
    "difference=result-source_amt\n",
    "print('Полученная сумма:\\t' ,round(result),'руб. ',round(round(result%1,2)*100),'коп.')\n",
    "print ('Прибыль:\\t\\t',round(difference),'руб. ',round(round(difference%1,2)*100),'коп.')\n",
    "\n",
    "\n",
    "\n",
    "for number in range(time):\n",
    "    if number % 2 == 0:\n",
    "        print(number)"
   ]
  }
 ],
 "metadata": {
  "kernelspec": {
   "display_name": "Python 3",
   "language": "python",
   "name": "python3"
  },
  "language_info": {
   "codemirror_mode": {
    "name": "ipython",
    "version": 3
   },
   "file_extension": ".py",
   "mimetype": "text/x-python",
   "name": "python",
   "nbconvert_exporter": "python",
   "pygments_lexer": "ipython3",
   "version": "3.7.4"
  }
 },
 "nbformat": 4,
 "nbformat_minor": 2
}
