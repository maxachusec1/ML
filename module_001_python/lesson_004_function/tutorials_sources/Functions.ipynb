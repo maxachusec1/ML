{
 "cells": [
  {
   "cell_type": "markdown",
   "metadata": {},
   "source": [
    "# Functions and modules\n",
    "\n",
    "## 1 - Function\n",
    "Функция - это обособленный фрагмент кода, который можно вызывать с нужными параметрами и иметь возможность получить результат"
   ]
  },
  {
   "cell_type": "code",
   "execution_count": 52,
   "metadata": {},
   "outputs": [],
   "source": [
    "import math\n",
    "def volume_of_sales(fixed_costs, variable_costs, required_profit, unit_price=100):\n",
    "    \"\"\"\n",
    "    Описание:\n",
    "        Функция высчитывает объем продаж\n",
    "    Параметры:\n",
    "        fixed_costs(float) - постоянные издержки\n",
    "        variable_costs(float) - переменные издержки\n",
    "        required_profit(float) - прогназируемая прибыль\n",
    "        unit_price(float) - цена одного товара\n",
    "    Результат:\n",
    "        Объем продаж округленный в большую сторону(int)\n",
    "    \"\"\"\n",
    "    result = 0\n",
    "    result = (fixed_costs+required_profit) / (unit_price-variable_costs)\n",
    "    return math.ceil(result)"
   ]
  },
  {
   "cell_type": "code",
   "execution_count": 53,
   "metadata": {},
   "outputs": [
    {
     "name": "stdout",
     "output_type": "stream",
     "text": [
      "\n",
      "    Описание:\n",
      "        Функция высчитывает объем продаж\n",
      "    Параметры:\n",
      "        fixed_costs(float) - постоянные издержки\n",
      "        variable_costs(float) - переменные издержки\n",
      "        required_profit(float) - прогназируемая прибыль\n",
      "        unit_price(float) - цена одного товара\n",
      "    Результат:\n",
      "        Объем продаж округленный в большую сторону(int)\n",
      "    \n"
     ]
    }
   ],
   "source": [
    "print(volume_of_sales.__doc__)"
   ]
  },
  {
   "cell_type": "code",
   "execution_count": 22,
   "metadata": {},
   "outputs": [
    {
     "name": "stdout",
     "output_type": "stream",
     "text": [
      "Прогназируемый объем продаж 1: 4400\n"
     ]
    }
   ],
   "source": [
    "print('Прогназируемый объем продаж 1:', volume_of_sales(300_000, 100, 800_000, 350))"
   ]
  },
  {
   "cell_type": "code",
   "execution_count": 23,
   "metadata": {},
   "outputs": [
    {
     "name": "stdout",
     "output_type": "stream",
     "text": [
      "Прогназируемый объем продаж 2: 22000\n"
     ]
    }
   ],
   "source": [
    "print('Прогназируемый объем продаж 2:', volume_of_sales(300_000, 200, 800_000, 250))"
   ]
  },
  {
   "cell_type": "code",
   "execution_count": 24,
   "metadata": {},
   "outputs": [
    {
     "name": "stdout",
     "output_type": "stream",
     "text": [
      "Прогназируемый объем продаж 3: 22000\n"
     ]
    }
   ],
   "source": [
    "print('Прогназируемый объем продаж 3:', volume_of_sales(300_000, 50, 800_000))"
   ]
  },
  {
   "cell_type": "code",
   "execution_count": 25,
   "metadata": {},
   "outputs": [
    {
     "name": "stdout",
     "output_type": "stream",
     "text": [
      "Прогназируемый объем продаж 4: 19\n"
     ]
    }
   ],
   "source": [
    "print('Прогназируемый объем продаж 4:', volume_of_sales(\n",
    "    variable_costs=2, \n",
    "    fixed_costs=50, \n",
    "    unit_price=10,\n",
    "    required_profit=100\n",
    "))"
   ]
  },
  {
   "cell_type": "code",
   "execution_count": 33,
   "metadata": {},
   "outputs": [],
   "source": [
    "def infinity_args(*args):\n",
    "    print(args)"
   ]
  },
  {
   "cell_type": "code",
   "execution_count": 34,
   "metadata": {},
   "outputs": [
    {
     "name": "stdout",
     "output_type": "stream",
     "text": [
      "(23, 'sad', [124124], {'name': 'aaa'}, -2)\n"
     ]
    }
   ],
   "source": [
    "infinity_args(23, \"sad\", [124124], {'name':'aaa'}, -2)"
   ]
  },
  {
   "cell_type": "code",
   "execution_count": 40,
   "metadata": {},
   "outputs": [],
   "source": [
    "def infinity_args2(**kargs):\n",
    "    print(kargs)"
   ]
  },
  {
   "cell_type": "code",
   "execution_count": 43,
   "metadata": {},
   "outputs": [
    {
     "name": "stdout",
     "output_type": "stream",
     "text": [
      "{'name': 22, 'dfs': 'sfsdf'}\n"
     ]
    }
   ],
   "source": [
    "infinity_args2(name=22,dfs=\"sfsdf\")"
   ]
  },
  {
   "cell_type": "code",
   "execution_count": 45,
   "metadata": {},
   "outputs": [],
   "source": [
    "def example(*args, **kargs):\n",
    "    print('args: ', args)\n",
    "    print('kargs', kargs)"
   ]
  },
  {
   "cell_type": "code",
   "execution_count": 48,
   "metadata": {},
   "outputs": [
    {
     "name": "stdout",
     "output_type": "stream",
     "text": [
      "args:  (1, 3)\n",
      "kargs {'test': 4, 'name': 5}\n"
     ]
    }
   ],
   "source": [
    "example(1,3,test=4,name=5)"
   ]
  },
  {
   "cell_type": "code",
   "execution_count": 49,
   "metadata": {},
   "outputs": [
    {
     "name": "stdout",
     "output_type": "stream",
     "text": [
      "args:  ([1, 3], {'test': 4, 'name': 5})\n",
      "kargs {}\n"
     ]
    }
   ],
   "source": [
    "list1 = [1,3]\n",
    "dict1 = {\"test\":4, \"name\": 5}\n",
    "example(list1, dict1)"
   ]
  },
  {
   "cell_type": "code",
   "execution_count": 50,
   "metadata": {},
   "outputs": [
    {
     "name": "stdout",
     "output_type": "stream",
     "text": [
      "args:  (1, 3)\n",
      "kargs {'test': 4, 'name': 5}\n"
     ]
    }
   ],
   "source": [
    "example(*list1, **dict1)"
   ]
  },
  {
   "cell_type": "markdown",
   "metadata": {},
   "source": [
    "## 2 - Lambda\n",
    "Функциональный объект"
   ]
  },
  {
   "cell_type": "code",
   "execution_count": 55,
   "metadata": {},
   "outputs": [
    {
     "name": "stdout",
     "output_type": "stream",
     "text": [
      "1\n",
      "100\n"
     ]
    }
   ],
   "source": [
    "expr1 = lambda x,y: x if x < y else y\n",
    "print(expr1(1,5))\n",
    "print(expr1(100,1000))"
   ]
  },
  {
   "cell_type": "code",
   "execution_count": 56,
   "metadata": {},
   "outputs": [],
   "source": [
    "def for_each_item(expr, source_list):\n",
    "    for item in source_list:\n",
    "        expr(item)"
   ]
  },
  {
   "cell_type": "code",
   "execution_count": 58,
   "metadata": {},
   "outputs": [
    {
     "name": "stdout",
     "output_type": "stream",
     "text": [
      "1\n",
      "4\n",
      "9\n"
     ]
    }
   ],
   "source": [
    "for_each_item(lambda x: print(x**2), [1,2,3])"
   ]
  },
  {
   "cell_type": "code",
   "execution_count": 62,
   "metadata": {},
   "outputs": [
    {
     "name": "stdout",
     "output_type": "stream",
     "text": [
      "<map object at 0x000001D1D3577C50>\n",
      "[6, 7, 8]\n"
     ]
    }
   ],
   "source": [
    "list1 = [1,2,3]\n",
    "res = map(lambda x: x+5, list1)\n",
    "print(res)\n",
    "print(list(res))"
   ]
  },
  {
   "cell_type": "code",
   "execution_count": 63,
   "metadata": {},
   "outputs": [
    {
     "name": "stdout",
     "output_type": "stream",
     "text": [
      "<filter object at 0x000001D1D3577BA8>\n",
      "[1, 3]\n"
     ]
    }
   ],
   "source": [
    "list1 = [1,2,3]\n",
    "res = filter(lambda x: x%2==1, list1)\n",
    "print(res)\n",
    "print(list(res))"
   ]
  },
  {
   "cell_type": "code",
   "execution_count": 68,
   "metadata": {},
   "outputs": [
    {
     "name": "stdout",
     "output_type": "stream",
     "text": [
      "24\n"
     ]
    }
   ],
   "source": [
    "from functools import reduce\n",
    "list1 = [1,2,3,4]\n",
    "res = reduce(lambda x,y: x*y, list1)\n",
    "print(res)"
   ]
  },
  {
   "cell_type": "markdown",
   "metadata": {},
   "source": [
    "## 3 - Modules"
   ]
  },
  {
   "cell_type": "code",
   "execution_count": 1,
   "metadata": {},
   "outputs": [
    {
     "name": "stdout",
     "output_type": "stream",
     "text": [
      "['C:\\\\Workplace\\\\ML\\\\module_001_python\\\\lesson_004_function\\\\tutorials_sources', 'C:\\\\Anaconda\\\\python37.zip', 'C:\\\\Anaconda\\\\DLLs', 'C:\\\\Anaconda\\\\lib', 'C:\\\\Anaconda', '', 'C:\\\\Anaconda\\\\lib\\\\site-packages', 'C:\\\\Anaconda\\\\lib\\\\site-packages\\\\win32', 'C:\\\\Anaconda\\\\lib\\\\site-packages\\\\win32\\\\lib', 'C:\\\\Anaconda\\\\lib\\\\site-packages\\\\Pythonwin', 'C:\\\\Anaconda\\\\lib\\\\site-packages\\\\IPython\\\\extensions', 'C:\\\\Users\\\\Денис\\\\.ipython']\n"
     ]
    }
   ],
   "source": [
    "import sys\n",
    "print(sys.path)"
   ]
  },
  {
   "cell_type": "code",
   "execution_count": 2,
   "metadata": {},
   "outputs": [
    {
     "name": "stdout",
     "output_type": "stream",
     "text": [
      "Enter to my module1\n"
     ]
    }
   ],
   "source": [
    "import my_module as mm"
   ]
  },
  {
   "cell_type": "code",
   "execution_count": 6,
   "metadata": {},
   "outputs": [
    {
     "name": "stdout",
     "output_type": "stream",
     "text": [
      "super\n",
      "Function1\n"
     ]
    }
   ],
   "source": [
    "print(mm.my_variable)\n",
    "mm.my_function_1()"
   ]
  },
  {
   "cell_type": "code",
   "execution_count": 7,
   "metadata": {},
   "outputs": [
    {
     "name": "stdout",
     "output_type": "stream",
     "text": [
      "Function2\n"
     ]
    }
   ],
   "source": [
    "from my_module import my_function_2\n",
    "my_function_2()"
   ]
  },
  {
   "cell_type": "code",
   "execution_count": 8,
   "metadata": {},
   "outputs": [
    {
     "data": {
      "text/plain": [
       "'super'"
      ]
     },
     "execution_count": 8,
     "metadata": {},
     "output_type": "execute_result"
    }
   ],
   "source": [
    "from my_module import *\n",
    "my_variable"
   ]
  }
 ],
 "metadata": {
  "kernelspec": {
   "display_name": "Python 3",
   "language": "python",
   "name": "python3"
  },
  "language_info": {
   "codemirror_mode": {
    "name": "ipython",
    "version": 3
   },
   "file_extension": ".py",
   "mimetype": "text/x-python",
   "name": "python",
   "nbconvert_exporter": "python",
   "pygments_lexer": "ipython3",
   "version": "3.7.4"
  }
 },
 "nbformat": 4,
 "nbformat_minor": 2
}
