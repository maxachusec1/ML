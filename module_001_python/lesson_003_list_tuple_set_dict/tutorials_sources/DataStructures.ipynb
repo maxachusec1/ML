{
 "cells": [
  {
   "cell_type": "markdown",
   "metadata": {},
   "source": [
    "# Data structures\n",
    "\n",
    "## 1 - List\n",
    "Список - это структура данных, которая позволяет хранить множество объектов разных типов, на списках очень быстро работают операции вставки и удаления"
   ]
  },
  {
   "cell_type": "code",
   "execution_count": 218,
   "metadata": {},
   "outputs": [
    {
     "name": "stdout",
     "output_type": "stream",
     "text": [
      "4 --- [25, True, 'Denis Markov', 'Magnitogorsk']\n",
      "4 --- ['ru', 'en', 'de', 'fr']\n"
     ]
    }
   ],
   "source": [
    "# Age, Male, Name, Location\n",
    "user = [25, True, \"Denis Markov\", \"Magnitogorsk\"]\n",
    "\n",
    "languages = [\"ru\", \"en\", \"de\", \"fr\"]\n",
    "\n",
    "print(len(user), '---', user)\n",
    "print(len(languages), '---', languages)"
   ]
  },
  {
   "cell_type": "markdown",
   "metadata": {},
   "source": [
    "Индексация элементов по аналогии со строками"
   ]
  },
  {
   "cell_type": "code",
   "execution_count": 219,
   "metadata": {},
   "outputs": [
    {
     "name": "stdout",
     "output_type": "stream",
     "text": [
      "True\n",
      "['ru', 'en', 'de']\n"
     ]
    }
   ],
   "source": [
    "print(user[1])\n",
    "print(languages[:3])"
   ]
  },
  {
   "cell_type": "markdown",
   "metadata": {},
   "source": [
    "Операции над списком"
   ]
  },
  {
   "cell_type": "code",
   "execution_count": 220,
   "metadata": {},
   "outputs": [
    {
     "name": "stdout",
     "output_type": "stream",
     "text": [
      "['ja', 'ru', 'en', 'de', 'fr', 'uk']\n"
     ]
    }
   ],
   "source": [
    "languages.append('uk') # вставка в конец\n",
    "languages.insert(0, 'ja') # вставка в произвольное место в списке\n",
    "print(languages)"
   ]
  },
  {
   "cell_type": "code",
   "execution_count": 221,
   "metadata": {},
   "outputs": [
    {
     "name": "stdout",
     "output_type": "stream",
     "text": [
      "['ja', 'ru', 'en', 'de', 'fr', 'uk', ['zh', 'cs']]\n",
      "['ja', 'ru', 'en', 'de', 'fr', 'uk', ['zh', 'cs'], 'zh', 'cs']\n"
     ]
    }
   ],
   "source": [
    "new_languages = ['zh', 'cs']\n",
    "languages.append(new_languages) # вставка списка в список\n",
    "print(languages)\n",
    "\n",
    "languages.extend(new_languages) # вставка элементов из списка в список\n",
    "print(languages)"
   ]
  },
  {
   "cell_type": "code",
   "execution_count": 222,
   "metadata": {},
   "outputs": [
    {
     "name": "stdout",
     "output_type": "stream",
     "text": [
      "['ja', 'ru', 'en', 'de', 'uk', ['zh', 'cs'], 'zh']\n"
     ]
    }
   ],
   "source": [
    "languages.remove('fr') # удаления элемента\n",
    "removed_language = languages.pop() # удаления последнего элемента с возвратом\n",
    "print(languages)"
   ]
  },
  {
   "cell_type": "code",
   "execution_count": 223,
   "metadata": {},
   "outputs": [
    {
     "name": "stdout",
     "output_type": "stream",
     "text": [
      "['zh', ['zh', 'cs'], 'uk', 'de', 'en', 'ru', 'ja']\n"
     ]
    }
   ],
   "source": [
    "languages.reverse()\n",
    "print(languages)"
   ]
  },
  {
   "cell_type": "code",
   "execution_count": 224,
   "metadata": {},
   "outputs": [
    {
     "name": "stdout",
     "output_type": "stream",
     "text": [
      "['zh', 'uk', 'ru', 'ja', 'en', 'de']\n"
     ]
    }
   ],
   "source": [
    "languages.remove(new_languages)\n",
    "languages.sort(reverse=True)\n",
    "#new_list = sorted(languages)\n",
    "print(languages)"
   ]
  },
  {
   "cell_type": "code",
   "execution_count": 225,
   "metadata": {},
   "outputs": [
    {
     "name": "stdout",
     "output_type": "stream",
     "text": [
      "15\n"
     ]
    }
   ],
   "source": [
    "nums = [1,2,3,4,5]\n",
    "print(sum(nums))"
   ]
  },
  {
   "cell_type": "code",
   "execution_count": 226,
   "metadata": {},
   "outputs": [
    {
     "name": "stdout",
     "output_type": "stream",
     "text": [
      "2\n",
      "False\n"
     ]
    }
   ],
   "source": [
    "# Нахождение элемента в списке\n",
    "print(nums.index(3))\n",
    "\n",
    "print(6 in nums)"
   ]
  },
  {
   "cell_type": "code",
   "execution_count": 227,
   "metadata": {},
   "outputs": [
    {
     "name": "stdout",
     "output_type": "stream",
     "text": [
      "1\n",
      "2\n",
      "3\n",
      "4\n",
      "5\n"
     ]
    }
   ],
   "source": [
    "for i in nums:\n",
    "    print(i)"
   ]
  },
  {
   "cell_type": "code",
   "execution_count": 228,
   "metadata": {},
   "outputs": [
    {
     "name": "stdout",
     "output_type": "stream",
     "text": [
      "0  --  25\n",
      "1  --  True\n",
      "2  --  Denis Markov\n",
      "3  --  Magnitogorsk\n"
     ]
    }
   ],
   "source": [
    "for index, value in enumerate(user, start=0):\n",
    "    print(index, ' -- ', value)"
   ]
  },
  {
   "cell_type": "code",
   "execution_count": 229,
   "metadata": {},
   "outputs": [
    {
     "name": "stdout",
     "output_type": "stream",
     "text": [
      "zh, uk, ru, ja, en, de\n"
     ]
    }
   ],
   "source": [
    "print(', '.join(languages))"
   ]
  },
  {
   "cell_type": "code",
   "execution_count": 230,
   "metadata": {},
   "outputs": [
    {
     "name": "stdout",
     "output_type": "stream",
     "text": [
      "['We', 'are', 'here', 'right', 'now']\n"
     ]
    }
   ],
   "source": [
    "msg = \"We are here right now\"\n",
    "print(msg.split(\" \"))"
   ]
  },
  {
   "cell_type": "code",
   "execution_count": 231,
   "metadata": {},
   "outputs": [
    {
     "name": "stdout",
     "output_type": "stream",
     "text": [
      "2074873128584 -- ['A', 'B', 'C']\n",
      "2074873128584 -- ['A', 'B', 'C']\n"
     ]
    }
   ],
   "source": [
    "list1 = ['A', 'B']\n",
    "list2 = list1\n",
    "\n",
    "list2.append('C')\n",
    "\n",
    "print(id(list1), '--', list1)\n",
    "print(id(list2), '--', list2)"
   ]
  },
  {
   "cell_type": "markdown",
   "metadata": {},
   "source": [
    "# Tuple\n",
    "кортеж - это не изменяемый лист"
   ]
  },
  {
   "cell_type": "code",
   "execution_count": 232,
   "metadata": {},
   "outputs": [
    {
     "ename": "AttributeError",
     "evalue": "'tuple' object has no attribute 'append'",
     "output_type": "error",
     "traceback": [
      "\u001b[1;31m---------------------------------------------------------------------------\u001b[0m",
      "\u001b[1;31mAttributeError\u001b[0m                            Traceback (most recent call last)",
      "\u001b[1;32m<ipython-input-232-0c363185d965>\u001b[0m in \u001b[0;36m<module>\u001b[1;34m\u001b[0m\n\u001b[0;32m      1\u001b[0m \u001b[0mtuple1\u001b[0m \u001b[1;33m=\u001b[0m \u001b[1;33m(\u001b[0m\u001b[1;36m1\u001b[0m\u001b[1;33m,\u001b[0m\u001b[1;36m2\u001b[0m\u001b[1;33m,\u001b[0m\u001b[1;36m3\u001b[0m\u001b[1;33m)\u001b[0m\u001b[1;33m\u001b[0m\u001b[1;33m\u001b[0m\u001b[0m\n\u001b[1;32m----> 2\u001b[1;33m \u001b[0mtuple1\u001b[0m\u001b[1;33m.\u001b[0m\u001b[0mappend\u001b[0m\u001b[1;33m(\u001b[0m\u001b[1;36m4\u001b[0m\u001b[1;33m)\u001b[0m\u001b[1;33m\u001b[0m\u001b[1;33m\u001b[0m\u001b[0m\n\u001b[0m\u001b[0;32m      3\u001b[0m \u001b[0mprint\u001b[0m\u001b[1;33m(\u001b[0m\u001b[0mtuple1\u001b[0m\u001b[1;33m)\u001b[0m\u001b[1;33m\u001b[0m\u001b[1;33m\u001b[0m\u001b[0m\n",
      "\u001b[1;31mAttributeError\u001b[0m: 'tuple' object has no attribute 'append'"
     ]
    }
   ],
   "source": [
    "tuple1 = (1,2,3)\n",
    "tuple1.append(4)\n",
    "print(tuple1)"
   ]
  },
  {
   "cell_type": "markdown",
   "metadata": {},
   "source": [
    "# Sets\n",
    "множеста - струтктура данных, которая не хранит дубликатов и производит быстрый поиск"
   ]
  },
  {
   "cell_type": "code",
   "execution_count": 233,
   "metadata": {},
   "outputs": [
    {
     "name": "stdout",
     "output_type": "stream",
     "text": [
      "{1, 2, 3, 4, 5, 6, 7}\n",
      "True\n"
     ]
    }
   ],
   "source": [
    "set1 = {1,2,3,4,5,5,6,7,7,1}\n",
    "print(set1)\n",
    "print(6 in set1)"
   ]
  },
  {
   "cell_type": "code",
   "execution_count": 234,
   "metadata": {},
   "outputs": [
    {
     "name": "stdout",
     "output_type": "stream",
     "text": [
      "{'Programmer', 'Administrator'}\n",
      "{'Data scientist', 'Chief'}\n",
      "{'HR'}\n",
      "{'Data scientist', 'HR', 'Administrator', 'Programmer', 'Chief'}\n"
     ]
    }
   ],
   "source": [
    "work1 = {\"Programmer\", \"Data scientist\", \"Administrator\", \"Chief\"}\n",
    "work2 = {\"Administrator\", \"Programmer\", \"HR\"}\n",
    "print(work1.intersection(work2))\n",
    "print(work1.difference(work2))\n",
    "print(work2.difference(work1))\n",
    "print(work1.union(work2))"
   ]
  },
  {
   "cell_type": "markdown",
   "metadata": {},
   "source": [
    "# Dictionaries\n",
    "словари - структура данных работающая по принципу ключ значение"
   ]
  },
  {
   "cell_type": "code",
   "execution_count": 235,
   "metadata": {},
   "outputs": [
    {
     "name": "stdout",
     "output_type": "stream",
     "text": [
      "{'age': 25, 'male': True, 'location': 'Magnitogorsk', 'name': 'Denis Markov'}\n"
     ]
    }
   ],
   "source": [
    "user = {\"age\": 25, \"male\": True, \"location\": \"Magnitogorsk\", \"name\": \"Denis Markov\"}\n",
    "print(user)"
   ]
  },
  {
   "cell_type": "code",
   "execution_count": 236,
   "metadata": {},
   "outputs": [
    {
     "name": "stdout",
     "output_type": "stream",
     "text": [
      "Magnitogorsk\n",
      "not found\n"
     ]
    }
   ],
   "source": [
    "print(user[\"location\"])\n",
    "print(user.get(\"Male\", \"not found\"))"
   ]
  },
  {
   "cell_type": "code",
   "execution_count": 237,
   "metadata": {},
   "outputs": [
    {
     "name": "stdout",
     "output_type": "stream",
     "text": [
      "{'age': 26, 'male': True, 'location': 'Magnitogorsk', 'name': 'Denis Markov', 'phone': '+7.....'}\n"
     ]
    }
   ],
   "source": [
    "user[\"phone\"] = \"+7.....\"\n",
    "user[\"age\"] = 26\n",
    "print(user)"
   ]
  },
  {
   "cell_type": "code",
   "execution_count": 238,
   "metadata": {},
   "outputs": [
    {
     "name": "stdout",
     "output_type": "stream",
     "text": [
      "{'age': 26, 'location': 'Magnitogorsk', 'name': 'Denis Markov', 'phone': '+7.....'}\n"
     ]
    }
   ],
   "source": [
    "del user[\"male\"]\n",
    "print(user)"
   ]
  },
  {
   "cell_type": "code",
   "execution_count": 239,
   "metadata": {},
   "outputs": [
    {
     "name": "stdout",
     "output_type": "stream",
     "text": [
      "dict_keys(['age', 'location', 'name', 'phone'])\n",
      "dict_values([26, 'Magnitogorsk', 'Denis Markov', '+7.....'])\n",
      "dict_items([('age', 26), ('location', 'Magnitogorsk'), ('name', 'Denis Markov'), ('phone', '+7.....')])\n"
     ]
    }
   ],
   "source": [
    "print(user.keys())\n",
    "print(user.values())\n",
    "print(user.items())"
   ]
  },
  {
   "cell_type": "code",
   "execution_count": 240,
   "metadata": {},
   "outputs": [
    {
     "name": "stdout",
     "output_type": "stream",
     "text": [
      "age -- 26\n",
      "location -- Magnitogorsk\n",
      "name -- Denis Markov\n",
      "phone -- +7.....\n"
     ]
    }
   ],
   "source": [
    "for key, value in user.items():\n",
    "    print(key, '--', value)"
   ]
  }
 ],
 "metadata": {
  "kernelspec": {
   "display_name": "Python 3",
   "language": "python",
   "name": "python3"
  },
  "language_info": {
   "codemirror_mode": {
    "name": "ipython",
    "version": 3
   },
   "file_extension": ".py",
   "mimetype": "text/x-python",
   "name": "python",
   "nbconvert_exporter": "python",
   "pygments_lexer": "ipython3",
   "version": "3.7.4"
  }
 },
 "nbformat": 4,
 "nbformat_minor": 2
}
